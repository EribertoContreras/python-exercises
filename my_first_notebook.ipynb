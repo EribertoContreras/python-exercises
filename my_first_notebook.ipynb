{
 "cells": [
  {
   "cell_type": "code",
   "execution_count": 1,
   "id": "4e663a7d",
   "metadata": {},
   "outputs": [
    {
     "name": "stdout",
     "output_type": "stream",
     "text": [
      "hello\n"
     ]
    }
   ],
   "source": [
    "print('hello')"
   ]
  },
  {
   "cell_type": "code",
   "execution_count": 2,
   "id": "bbcd2844",
   "metadata": {},
   "outputs": [
    {
     "data": {
      "text/plain": [
       "(2, 3, 4, 8, 88, 23, 4, 4)"
      ]
     },
     "execution_count": 2,
     "metadata": {},
     "output_type": "execute_result"
    }
   ],
   "source": [
    "(2,3,4,8,88) + (23,4,4)"
   ]
  },
  {
   "cell_type": "code",
   "execution_count": 3,
   "id": "b4c0b631",
   "metadata": {},
   "outputs": [
    {
     "data": {
      "text/plain": [
       "45000.0"
      ]
     },
     "execution_count": 3,
     "metadata": {},
     "output_type": "execute_result"
    }
   ],
   "source": [
    "(10000/6)*27"
   ]
  },
  {
   "cell_type": "code",
   "execution_count": 4,
   "id": "948539ef",
   "metadata": {},
   "outputs": [],
   "source": [
    "greeting = \"Hi, everybody!\""
   ]
  },
  {
   "cell_type": "code",
   "execution_count": 5,
   "id": "12783fb0",
   "metadata": {},
   "outputs": [
    {
     "data": {
      "text/plain": [
       "int"
      ]
     },
     "execution_count": 5,
     "metadata": {},
     "output_type": "execute_result"
    }
   ],
   "source": [
    "type(123)"
   ]
  },
  {
   "cell_type": "code",
   "execution_count": 6,
   "id": "2cf013ae",
   "metadata": {},
   "outputs": [
    {
     "data": {
      "text/plain": [
       "str"
      ]
     },
     "execution_count": 6,
     "metadata": {},
     "output_type": "execute_result"
    }
   ],
   "source": [
    "type('hello')\n"
   ]
  },
  {
   "cell_type": "code",
   "execution_count": 7,
   "id": "14515fb4",
   "metadata": {},
   "outputs": [
    {
     "data": {
      "text/plain": [
       "bool"
      ]
     },
     "execution_count": 7,
     "metadata": {},
     "output_type": "execute_result"
    }
   ],
   "source": [
    "type(True)"
   ]
  },
  {
   "cell_type": "code",
   "execution_count": 8,
   "id": "8608080a",
   "metadata": {
    "scrolled": true
   },
   "outputs": [],
   "source": [
    "None"
   ]
  },
  {
   "cell_type": "code",
   "execution_count": 9,
   "id": "a56b6141",
   "metadata": {},
   "outputs": [
    {
     "name": "stdout",
     "output_type": "stream",
     "text": [
      "1\n",
      "2\n",
      "8\n"
     ]
    }
   ],
   "source": [
    "x = 1\n",
    "print(x)\n",
    "x = x + 1\n",
    "print(x)\n",
    "x = x * 3 + x\n",
    "print(x)\n"
   ]
  },
  {
   "cell_type": "code",
   "execution_count": 10,
   "id": "5a4d07b5",
   "metadata": {},
   "outputs": [
    {
     "data": {
      "text/plain": [
       "49"
      ]
     },
     "execution_count": 10,
     "metadata": {},
     "output_type": "execute_result"
    }
   ],
   "source": [
    "favorite_number = 42\n",
    "n = favorite_number + 7\n",
    "n"
   ]
  },
  {
   "cell_type": "code",
   "execution_count": 11,
   "id": "27e9e218",
   "metadata": {},
   "outputs": [
    {
     "data": {
      "text/plain": [
       "True"
      ]
     },
     "execution_count": 11,
     "metadata": {},
     "output_type": "execute_result"
    }
   ],
   "source": [
    "#total += 1.99 adds total(anything prior to that) and the 1.99 price \n",
    "## booleans (true/false)\n",
    "total = 0.00\n",
    "total < 20\n",
    "# != is not equall to "
   ]
  },
  {
   "cell_type": "code",
   "execution_count": 12,
   "id": "814e1d2c",
   "metadata": {},
   "outputs": [],
   "source": [
    "# esc a adds a cell above and esc b adds a cell bellow\n",
    "#control shift - seperates a cell \n"
   ]
  },
  {
   "cell_type": "code",
   "execution_count": 13,
   "id": "1a6d2e34",
   "metadata": {},
   "outputs": [
    {
     "ename": "SyntaxError",
     "evalue": "invalid syntax (3722423002.py, line 2)",
     "output_type": "error",
     "traceback": [
      "\u001b[0;36m  File \u001b[0;32m\"/var/folders/6l/s35v3d3n6fqg6xn2wzxj1nlr0000gn/T/ipykernel_7143/3722423002.py\"\u001b[0;36m, line \u001b[0;32m2\u001b[0m\n\u001b[0;31m    - not: Switches the boolean value of a value\u001b[0m\n\u001b[0m      ^\u001b[0m\n\u001b[0;31mSyntaxError\u001b[0m\u001b[0;31m:\u001b[0m invalid syntax\n"
     ]
    }
   ],
   "source": [
    "## LOGICAL OPERATORS\n",
    "- not: Switches the boolean value of a value\n",
    "- and: making sure both peices are true\n",
    "- or: making sure at last one pieces is true"
   ]
  },
  {
   "cell_type": "code",
   "execution_count": null,
   "id": "0993920c",
   "metadata": {},
   "outputs": [],
   "source": [
    "# modulo operator == remainder operator\n",
    "#5 % 2 should read as (5 devided by two leaves off what ?)\n",
    "5%2"
   ]
  },
  {
   "cell_type": "code",
   "execution_count": null,
   "id": "fb86dbd3",
   "metadata": {},
   "outputs": [],
   "source": [
    "4 % 2"
   ]
  },
  {
   "cell_type": "code",
   "execution_count": null,
   "id": "6eac3de8",
   "metadata": {},
   "outputs": [],
   "source": [
    "3/2"
   ]
  },
  {
   "cell_type": "code",
   "execution_count": null,
   "id": "622fe8fb",
   "metadata": {},
   "outputs": [],
   "source": [
    "#qoutient\n",
    "# 2 goes into 3 goes in 1 time \n",
    "3.33//2\n"
   ]
  },
  {
   "cell_type": "code",
   "execution_count": null,
   "id": "7be7703a",
   "metadata": {},
   "outputs": [],
   "source": [
    "## strings \n",
    "-letter ir numbers cointained in double or single quotes \n",
    "- if we start a string with dobuble quotes we need to end with double quotes same for '\"'\n",
    "'\"'"
   ]
  },
  {
   "cell_type": "code",
   "execution_count": null,
   "id": "52eff812",
   "metadata": {},
   "outputs": [],
   "source": [
    "quote = \"\"\"\n",
    "'\"\" YOu miss 100% of the shots you take =\" - wayne\" -michael \"\"\"\n",
    "\n",
    "quote"
   ]
  },
  {
   "cell_type": "code",
   "execution_count": null,
   "id": "88805c26",
   "metadata": {},
   "outputs": [],
   "source": [
    "print(quote)"
   ]
  },
  {
   "cell_type": "code",
   "execution_count": null,
   "id": "605532a0",
   "metadata": {},
   "outputs": [],
   "source": [
    "is_even = \n",
    "is_even? # can give you info on strings you write.."
   ]
  },
  {
   "cell_type": "code",
   "execution_count": null,
   "id": "bf637e9d",
   "metadata": {},
   "outputs": [],
   "source": [
    "#string \n",
    "message = \"It's been great to program python with y'all\"\n",
    "message"
   ]
  },
  {
   "cell_type": "code",
   "execution_count": null,
   "id": "b75717c3",
   "metadata": {},
   "outputs": [],
   "source": [
    "message?"
   ]
  },
  {
   "cell_type": "markdown",
   "id": "1011bf9f",
   "metadata": {},
   "source": [
    "# string functions"
   ]
  },
  {
   "cell_type": "code",
   "execution_count": null,
   "id": "fd076987",
   "metadata": {},
   "outputs": [],
   "source": [
    "'2' + str(1)"
   ]
  },
  {
   "cell_type": "code",
   "execution_count": null,
   "id": "6c794d6f",
   "metadata": {},
   "outputs": [],
   "source": [
    "int('2') +1"
   ]
  },
  {
   "cell_type": "markdown",
   "id": "5f84069d",
   "metadata": {},
   "source": [
    "## string formating"
   ]
  },
  {
   "cell_type": "code",
   "execution_count": null,
   "id": "1e79445c",
   "metadata": {},
   "outputs": [],
   "source": [
    "name = \"world\""
   ]
  },
  {
   "cell_type": "code",
   "execution_count": null,
   "id": "761e6209",
   "metadata": {},
   "outputs": [],
   "source": [
    "'hello, %s!' % name"
   ]
  },
  {
   "cell_type": "code",
   "execution_count": null,
   "id": "d4930719",
   "metadata": {},
   "outputs": [],
   "source": [
    "'hello, {}!'.format(name)"
   ]
  },
  {
   "cell_type": "code",
   "execution_count": null,
   "id": "af21d610",
   "metadata": {},
   "outputs": [],
   "source": [
    "f'Hello {name}!'"
   ]
  },
  {
   "cell_type": "code",
   "execution_count": null,
   "id": "f1c04d6c",
   "metadata": {},
   "outputs": [],
   "source": [
    "number = 10 "
   ]
  },
  {
   "cell_type": "code",
   "execution_count": null,
   "id": "6e42902a",
   "metadata": {},
   "outputs": [],
   "source": [
    "f'Hello {str(number)}' #paranthesis with str is to force it but are nit necesarry at times"
   ]
  },
  {
   "cell_type": "markdown",
   "id": "f761b719",
   "metadata": {},
   "source": [
    "# String methods and indexing"
   ]
  },
  {
   "cell_type": "code",
   "execution_count": null,
   "id": "bb80fb50",
   "metadata": {},
   "outputs": [],
   "source": [
    "# function is going to be listed firts () follwing\n",
    "# method is going to be listed last with .method"
   ]
  },
  {
   "cell_type": "code",
   "execution_count": null,
   "id": "712ba27a",
   "metadata": {},
   "outputs": [],
   "source": [
    "# function\n",
    "str(1)"
   ]
  },
  {
   "cell_type": "code",
   "execution_count": null,
   "id": "1b00b8e8",
   "metadata": {},
   "outputs": [],
   "source": [
    "s = '   Hello, Codeup!   '"
   ]
  },
  {
   "cell_type": "code",
   "execution_count": null,
   "id": "9caf8c14",
   "metadata": {},
   "outputs": [],
   "source": [
    "s.lower()"
   ]
  },
  {
   "cell_type": "code",
   "execution_count": null,
   "id": "6b3f4616",
   "metadata": {},
   "outputs": [],
   "source": [
    "lower(s)"
   ]
  },
  {
   "cell_type": "code",
   "execution_count": null,
   "id": "0ad51a81",
   "metadata": {},
   "outputs": [],
   "source": [
    "s.strip()"
   ]
  },
  {
   "cell_type": "code",
   "execution_count": null,
   "id": "bdc892a7",
   "metadata": {},
   "outputs": [],
   "source": [
    "s.isdigit()"
   ]
  },
  {
   "cell_type": "code",
   "execution_count": null,
   "id": "24910138",
   "metadata": {},
   "outputs": [],
   "source": [
    "'123'.isdigit()"
   ]
  },
  {
   "cell_type": "code",
   "execution_count": null,
   "id": "201495af",
   "metadata": {},
   "outputs": [],
   "source": [
    "s.strip().split(', ') #comma spererates everything "
   ]
  },
  {
   "cell_type": "code",
   "execution_count": null,
   "id": "3decd2a8",
   "metadata": {},
   "outputs": [],
   "source": [
    "(', ').join(['one', 'two', 'three'])"
   ]
  },
  {
   "cell_type": "markdown",
   "id": "7ba27e6c",
   "metadata": {},
   "source": [
    "## Lists and lis operations"
   ]
  },
  {
   "cell_type": "code",
   "execution_count": null,
   "id": "9ad3849f",
   "metadata": {},
   "outputs": [],
   "source": [
    "[1,2,3]"
   ]
  },
  {
   "cell_type": "code",
   "execution_count": null,
   "id": "2da14075",
   "metadata": {},
   "outputs": [],
   "source": [
    "[1,'two',3.123456]"
   ]
  },
  {
   "cell_type": "code",
   "execution_count": null,
   "id": "28e59532",
   "metadata": {},
   "outputs": [],
   "source": [
    "[[1,2,3],[4,5,6],[7,8,9]]"
   ]
  },
  {
   "cell_type": "code",
   "execution_count": null,
   "id": "2d1f39ff",
   "metadata": {},
   "outputs": [],
   "source": [
    "len([1,2,3])"
   ]
  },
  {
   "cell_type": "code",
   "execution_count": null,
   "id": "4f439a22",
   "metadata": {},
   "outputs": [],
   "source": [
    "len([[[0,0,0],1,2,3],[4,5,6],[7,8,9]])"
   ]
  },
  {
   "cell_type": "code",
   "execution_count": null,
   "id": "98954176",
   "metadata": {},
   "outputs": [],
   "source": [
    "#extracting deeper layers\n",
    "storage_box = []\n",
    "for each_number in [1,2,3,4,5,6,7]:\n",
    "    storage_box.append('box')"
   ]
  },
  {
   "cell_type": "code",
   "execution_count": null,
   "id": "0f539523",
   "metadata": {},
   "outputs": [],
   "source": [
    "storage_box"
   ]
  },
  {
   "cell_type": "markdown",
   "id": "d4144b5e",
   "metadata": {},
   "source": [
    "# list comprehensions\n",
    "##short hand method for above"
   ]
  },
  {
   "cell_type": "code",
   "execution_count": null,
   "id": "aaf57bfe",
   "metadata": {},
   "outputs": [],
   "source": [
    "storage_box2 = ['box' for each_number in range(7)]"
   ]
  },
  {
   "cell_type": "code",
   "execution_count": null,
   "id": "2456085b",
   "metadata": {},
   "outputs": [],
   "source": [
    "storage_box2"
   ]
  },
  {
   "cell_type": "code",
   "execution_count": null,
   "id": "95c44156",
   "metadata": {},
   "outputs": [],
   "source": [
    "list(range(7))"
   ]
  },
  {
   "cell_type": "code",
   "execution_count": null,
   "id": "d5fd0587",
   "metadata": {},
   "outputs": [],
   "source": [
    "storage_box3 = ['box' for each_element in ['1','2',123,1.245,'string',['1',2],0]]"
   ]
  },
  {
   "cell_type": "code",
   "execution_count": null,
   "id": "7b1b446a",
   "metadata": {},
   "outputs": [],
   "source": [
    "storage_box3"
   ]
  },
  {
   "cell_type": "code",
   "execution_count": null,
   "id": "158a5d71",
   "metadata": {},
   "outputs": [],
   "source": [
    "storage_box4 = ['box' for beans in ['1','2',123,1.245,'string',['1',2],0]]"
   ]
  },
  {
   "cell_type": "code",
   "execution_count": null,
   "id": "86e12c5e",
   "metadata": {},
   "outputs": [],
   "source": [
    "storage_box4"
   ]
  },
  {
   "cell_type": "code",
   "execution_count": null,
   "id": "dd0933c0",
   "metadata": {},
   "outputs": [],
   "source": [
    "storage_box5 = ['box' for n in range(7)]"
   ]
  },
  {
   "cell_type": "code",
   "execution_count": 14,
   "id": "07e72fc4",
   "metadata": {},
   "outputs": [
    {
     "ename": "NameError",
     "evalue": "name 'storage_box5' is not defined",
     "output_type": "error",
     "traceback": [
      "\u001b[0;31m---------------------------------------------------------------------------\u001b[0m",
      "\u001b[0;31mNameError\u001b[0m                                 Traceback (most recent call last)",
      "\u001b[0;32m/var/folders/6l/s35v3d3n6fqg6xn2wzxj1nlr0000gn/T/ipykernel_7143/1992702292.py\u001b[0m in \u001b[0;36m<module>\u001b[0;34m\u001b[0m\n\u001b[0;32m----> 1\u001b[0;31m \u001b[0mstorage_box5\u001b[0m\u001b[0;34m\u001b[0m\u001b[0;34m\u001b[0m\u001b[0m\n\u001b[0m",
      "\u001b[0;31mNameError\u001b[0m: name 'storage_box5' is not defined"
     ]
    }
   ],
   "source": [
    "storage_box5"
   ]
  },
  {
   "cell_type": "code",
   "execution_count": null,
   "id": "8ccb207f",
   "metadata": {},
   "outputs": [],
   "source": [
    "storage_box5 = [n * 2 for n in range(7)]"
   ]
  },
  {
   "cell_type": "code",
   "execution_count": null,
   "id": "a0e22e38",
   "metadata": {},
   "outputs": [],
   "source": [
    "storage_box5"
   ]
  },
  {
   "cell_type": "code",
   "execution_count": null,
   "id": "b1e4ac05",
   "metadata": {},
   "outputs": [],
   "source": [
    "storage_box6 = ['box' * 2 for n in range(7)]"
   ]
  },
  {
   "cell_type": "code",
   "execution_count": null,
   "id": "b31f8f5a",
   "metadata": {},
   "outputs": [],
   "source": [
    "storage_box6"
   ]
  },
  {
   "cell_type": "code",
   "execution_count": null,
   "id": "1e0b4a69",
   "metadata": {},
   "outputs": [],
   "source": [
    "storage_box7 =[n * 2 for n in range(7) if n%2 == 0]   #n%2 == 0 is asking if is even !!!!!"
   ]
  },
  {
   "cell_type": "code",
   "execution_count": null,
   "id": "abd5ade8",
   "metadata": {},
   "outputs": [],
   "source": [
    "storage_box7"
   ]
  },
  {
   "cell_type": "code",
   "execution_count": null,
   "id": "3e49d16f",
   "metadata": {},
   "outputs": [],
   "source": [
    "storage_box8 =[n * 2 for n in range(7) if n%2 == 1]  #n%2 == 1 is odd number"
   ]
  },
  {
   "cell_type": "code",
   "execution_count": null,
   "id": "15a30ae9",
   "metadata": {},
   "outputs": [],
   "source": [
    "storage_box8"
   ]
  },
  {
   "cell_type": "code",
   "execution_count": null,
   "id": "94cc570f",
   "metadata": {},
   "outputs": [],
   "source": [
    "storage_box9 =[n * 2 for n in range(100) if (n%2 == 0) and (n % 3 == 0)]"
   ]
  },
  {
   "cell_type": "code",
   "execution_count": null,
   "id": "a5bcf390",
   "metadata": {},
   "outputs": [],
   "source": [
    "storage_box9"
   ]
  },
  {
   "cell_type": "markdown",
   "id": "2debbab8",
   "metadata": {},
   "source": [
    "## list of operations"
   ]
  },
  {
   "cell_type": "code",
   "execution_count": null,
   "id": "b89d6d2a",
   "metadata": {},
   "outputs": [],
   "source": [
    "numbers = [1,2,3]"
   ]
  },
  {
   "cell_type": "code",
   "execution_count": null,
   "id": "1c15c00b",
   "metadata": {},
   "outputs": [],
   "source": [
    "numbers.append(4)\n",
    "numbers"
   ]
  },
  {
   "cell_type": "code",
   "execution_count": null,
   "id": "6e01c539",
   "metadata": {},
   "outputs": [],
   "source": [
    "numbers.pop()  #pop will remove last element\n",
    "numbers"
   ]
  },
  {
   "cell_type": "code",
   "execution_count": null,
   "id": "3956dc1e",
   "metadata": {},
   "outputs": [],
   "source": [
    "removed_element = numbers.pop()\n",
    "removed_element"
   ]
  },
  {
   "cell_type": "code",
   "execution_count": null,
   "id": "e38763ce",
   "metadata": {},
   "outputs": [],
   "source": [
    "numbers"
   ]
  },
  {
   "cell_type": "code",
   "execution_count": null,
   "id": "9c385837",
   "metadata": {},
   "outputs": [],
   "source": [
    "len(numbers)"
   ]
  },
  {
   "cell_type": "code",
   "execution_count": null,
   "id": "9153d7cc",
   "metadata": {},
   "outputs": [],
   "source": [
    "list_of_lists = [[['one','two','three'],2,3],[4,5,6],[7,8,9]]"
   ]
  },
  {
   "cell_type": "code",
   "execution_count": null,
   "id": "ff3f7610",
   "metadata": {},
   "outputs": [],
   "source": [
    "print(list_of_lists[0])\n",
    "print(list_of_lists[1])\n",
    "print(list_of_lists[2])"
   ]
  },
  {
   "cell_type": "code",
   "execution_count": null,
   "id": "ba0742bf",
   "metadata": {},
   "outputs": [],
   "source": [
    "print(list_of_lists[0][2]) #0 represents first list 2 represents third item of that list"
   ]
  },
  {
   "cell_type": "code",
   "execution_count": null,
   "id": "f37968df",
   "metadata": {},
   "outputs": [],
   "source": [
    "list_of_lists[0][0]"
   ]
  },
  {
   "cell_type": "code",
   "execution_count": null,
   "id": "bf84e447",
   "metadata": {},
   "outputs": [],
   "source": [
    "list_of_lists[0][0][1]"
   ]
  },
  {
   "cell_type": "code",
   "execution_count": null,
   "id": "9f1112dc",
   "metadata": {},
   "outputs": [],
   "source": [
    "list_of_lists[:2] # : gives u a range "
   ]
  },
  {
   "cell_type": "code",
   "execution_count": null,
   "id": "686dc3e7",
   "metadata": {},
   "outputs": [],
   "source": [
    "list_of_lists[1:2]"
   ]
  },
  {
   "cell_type": "code",
   "execution_count": null,
   "id": "2162a052",
   "metadata": {},
   "outputs": [],
   "source": [
    "string_example = 'abcdefg'"
   ]
  },
  {
   "cell_type": "code",
   "execution_count": null,
   "id": "dc724daa",
   "metadata": {},
   "outputs": [],
   "source": [
    "string_example[3:]"
   ]
  },
  {
   "cell_type": "code",
   "execution_count": null,
   "id": "ecf96e96",
   "metadata": {},
   "outputs": [],
   "source": [
    "string_example[0]"
   ]
  },
  {
   "cell_type": "code",
   "execution_count": null,
   "id": "5309786a",
   "metadata": {},
   "outputs": [],
   "source": [
    "string_example[-1]"
   ]
  },
  {
   "cell_type": "code",
   "execution_count": null,
   "id": "37a928c0",
   "metadata": {},
   "outputs": [],
   "source": [
    "list_of_lists"
   ]
  },
  {
   "cell_type": "code",
   "execution_count": null,
   "id": "80ccf782",
   "metadata": {},
   "outputs": [],
   "source": [
    "list_of_lists[0]"
   ]
  },
  {
   "cell_type": "code",
   "execution_count": null,
   "id": "4b75d920",
   "metadata": {},
   "outputs": [],
   "source": [
    "list_of_lists[0][1:]"
   ]
  },
  {
   "cell_type": "markdown",
   "id": "c8bade56",
   "metadata": {},
   "source": [
    "## Converting to a list"
   ]
  },
  {
   "cell_type": "code",
   "execution_count": null,
   "id": "1569ed8d",
   "metadata": {},
   "outputs": [],
   "source": [
    "range(7)"
   ]
  },
  {
   "cell_type": "code",
   "execution_count": null,
   "id": "06eccc06",
   "metadata": {},
   "outputs": [],
   "source": [
    "type(range(7))"
   ]
  },
  {
   "cell_type": "code",
   "execution_count": null,
   "id": "606db9f2",
   "metadata": {},
   "outputs": [],
   "source": [
    "len(range(7))"
   ]
  },
  {
   "cell_type": "code",
   "execution_count": null,
   "id": "8462cb1c",
   "metadata": {},
   "outputs": [],
   "source": [
    "list('abcde')"
   ]
  },
  {
   "cell_type": "code",
   "execution_count": null,
   "id": "f013a15a",
   "metadata": {},
   "outputs": [],
   "source": [
    "type(list(\"abcde\"))"
   ]
  },
  {
   "cell_type": "code",
   "execution_count": null,
   "id": "3650f5a5",
   "metadata": {},
   "outputs": [],
   "source": [
    "list(range(15,-3,-2))"
   ]
  },
  {
   "cell_type": "code",
   "execution_count": null,
   "id": "b05408f5",
   "metadata": {},
   "outputs": [],
   "source": [
    "range(100*100*100)"
   ]
  },
  {
   "cell_type": "code",
   "execution_count": null,
   "id": "33f3995d",
   "metadata": {},
   "outputs": [],
   "source": [
    "list(map(str,[1,2,3]))"
   ]
  },
  {
   "cell_type": "code",
   "execution_count": null,
   "id": "476539e6",
   "metadata": {},
   "outputs": [],
   "source": [
    "map(str,[1,2,3])"
   ]
  },
  {
   "cell_type": "markdown",
   "id": "ace78691",
   "metadata": {},
   "source": [
    "## Tuples are lists that dont change"
   ]
  },
  {
   "cell_type": "code",
   "execution_count": null,
   "id": "51baf83a",
   "metadata": {},
   "outputs": [],
   "source": [
    "my_tuple = (1,2,3)"
   ]
  },
  {
   "cell_type": "code",
   "execution_count": null,
   "id": "eef3808c",
   "metadata": {},
   "outputs": [],
   "source": [
    "my_tuple"
   ]
  },
  {
   "cell_type": "code",
   "execution_count": null,
   "id": "477503e8",
   "metadata": {},
   "outputs": [],
   "source": [
    "my_tuple[2:]"
   ]
  },
  {
   "cell_type": "code",
   "execution_count": null,
   "id": "c473db1e",
   "metadata": {},
   "outputs": [],
   "source": [
    "my_tuple = (2,3,4)"
   ]
  },
  {
   "cell_type": "code",
   "execution_count": null,
   "id": "68d3ec80",
   "metadata": {},
   "outputs": [],
   "source": [
    "my_tuple"
   ]
  },
  {
   "cell_type": "markdown",
   "id": "85f9bb77",
   "metadata": {},
   "source": [
    "## Dictionaries"
   ]
  },
  {
   "cell_type": "code",
   "execution_count": null,
   "id": "6f355cd1",
   "metadata": {},
   "outputs": [],
   "source": [
    "my_dict = {'users': ['Bob','Adam','Sally','Jen','Mike'], 'roles': ['Admin','Reviewer','Commentator']}"
   ]
  },
  {
   "cell_type": "code",
   "execution_count": null,
   "id": "1cd4f230",
   "metadata": {},
   "outputs": [],
   "source": [
    "len(my_dict)"
   ]
  },
  {
   "cell_type": "code",
   "execution_count": null,
   "id": "d286c65b",
   "metadata": {},
   "outputs": [],
   "source": [
    "my_dict[0]"
   ]
  },
  {
   "cell_type": "code",
   "execution_count": null,
   "id": "ea0770aa",
   "metadata": {},
   "outputs": [],
   "source": [
    "my_dict['users']"
   ]
  },
  {
   "cell_type": "code",
   "execution_count": null,
   "id": "490a1735",
   "metadata": {},
   "outputs": [],
   "source": [
    "my_dict['roles']"
   ]
  },
  {
   "cell_type": "code",
   "execution_count": null,
   "id": "06150819",
   "metadata": {},
   "outputs": [],
   "source": [
    "my_dict2 = {'name': 'Codeup', 'age': 4}"
   ]
  },
  {
   "cell_type": "code",
   "execution_count": null,
   "id": "0af7db9e",
   "metadata": {},
   "outputs": [],
   "source": [
    "my_dict2['name']"
   ]
  },
  {
   "cell_type": "code",
   "execution_count": null,
   "id": "9a8927a8",
   "metadata": {},
   "outputs": [],
   "source": [
    "my_dict2['name'] + ' is cool'"
   ]
  },
  {
   "cell_type": "code",
   "execution_count": null,
   "id": "e5266ec3",
   "metadata": {},
   "outputs": [],
   "source": [
    "my_dict2"
   ]
  },
  {
   "cell_type": "code",
   "execution_count": null,
   "id": "61567d9a",
   "metadata": {},
   "outputs": [],
   "source": [
    "my_dict2['age'] = my_dict2['age'] + 1"
   ]
  },
  {
   "cell_type": "code",
   "execution_count": null,
   "id": "28de9dd1",
   "metadata": {},
   "outputs": [],
   "source": [
    "my_dict2"
   ]
  },
  {
   "cell_type": "code",
   "execution_count": null,
   "id": "2e6146c7",
   "metadata": {},
   "outputs": [],
   "source": [
    "my_dict2['age'] = 'five'"
   ]
  },
  {
   "cell_type": "code",
   "execution_count": null,
   "id": "0c89f3d9",
   "metadata": {},
   "outputs": [],
   "source": [
    "my_dict2"
   ]
  },
  {
   "cell_type": "code",
   "execution_count": null,
   "id": "3c0973d4",
   "metadata": {},
   "outputs": [],
   "source": [
    "nested_dict = {'fruit_shops': {['NW','NE','SW','SE'], 'age': [10,14,13,12], 'manager': ['bob','Sally','steve','jim']}, 'revenue': {['daily': 1230,1512,1233,5235]}}, 'bike_shops': 'None'}"
   ]
  },
  {
   "cell_type": "code",
   "execution_count": null,
   "id": "951b4f78",
   "metadata": {},
   "outputs": [],
   "source": [
    "{'name': 'Codeup', 'age': 4}\n"
   ]
  },
  {
   "cell_type": "code",
   "execution_count": null,
   "id": "d2b76170",
   "metadata": {},
   "outputs": [],
   "source": [
    "dict(name='Codeup', age=4)\n"
   ]
  },
  {
   "cell_type": "code",
   "execution_count": null,
   "id": "5449f477",
   "metadata": {},
   "outputs": [],
   "source": [
    "school = dict(name='Codeup', age=4)\n",
    "\n",
    "school['name']\n"
   ]
  },
  {
   "cell_type": "code",
   "execution_count": null,
   "id": "9bfd9a22",
   "metadata": {},
   "outputs": [],
   "source": [
    "99.9\n"
   ]
  },
  {
   "cell_type": "markdown",
   "id": "21ab7770",
   "metadata": {},
   "source": [
    "# Conditionals:"
   ]
  },
  {
   "cell_type": "code",
   "execution_count": null,
   "id": "b30540dc",
   "metadata": {},
   "outputs": [],
   "source": [
    "# if this then that\n",
    "# if some condition is true:\n",
    " #execute this code"
   ]
  },
  {
   "cell_type": "code",
   "execution_count": null,
   "id": "616f2394",
   "metadata": {},
   "outputs": [],
   "source": [
    "x = 6 \n",
    "\n",
    "r = x % 2\n",
    "\n",
    "if r == 0:\n",
    "    print('Then number is even')\n",
    "    print('Greetings!')\n",
    "    \n",
    "print('Complete')"
   ]
  },
  {
   "cell_type": "code",
   "execution_count": null,
   "id": "73fc114c",
   "metadata": {},
   "outputs": [],
   "source": [
    "x = 5\n",
    "\n",
    "r = x % 2\n",
    "\n",
    "if r == 0:\n",
    "    print('Then number is even')\n",
    "    print('Greetings!')\n",
    "    \n",
    "print('Complete')"
   ]
  },
  {
   "cell_type": "markdown",
   "id": "6536a61f",
   "metadata": {},
   "source": [
    "## if this then that, otherwise"
   ]
  },
  {
   "cell_type": "code",
   "execution_count": null,
   "id": "a8538a26",
   "metadata": {},
   "outputs": [],
   "source": [
    "x = 6 \n",
    "\n",
    "r = x % 2\n",
    "\n",
    "if r == 0:\n",
    "    print('The number is even')\n",
    "\n",
    "if r == 1:\n",
    "    print('the number is odd')\n",
    "    \n",
    "print('Complete')"
   ]
  },
  {
   "cell_type": "code",
   "execution_count": null,
   "id": "3cf0ba04",
   "metadata": {},
   "outputs": [],
   "source": [
    "#prefered\n",
    "x = 5 \n",
    "\n",
    "r = x % 2\n",
    "\n",
    "    if r == 0:\n",
    "        print('The number is even')\n",
    "    else:\n",
    "        print('less than or equal to 2!')\n",
    "    else:\n",
    "        print('the number is odd')\n",
    "print('Complete')"
   ]
  },
  {
   "cell_type": "code",
   "execution_count": null,
   "id": "f4d24e86",
   "metadata": {},
   "outputs": [],
   "source": [
    "x = 2\n",
    "\n",
    "if x == 1:\n",
    "    print('one')\n",
    "if x == 2:\n",
    "    print('two')\n",
    "if x == 3:\n",
    "    print('three')\n",
    "if x == 4:\n",
    "    print('four')\n",
    "else:\n",
    "    print('hurray')"
   ]
  },
  {
   "cell_type": "markdown",
   "id": "d5375d04",
   "metadata": {},
   "source": [
    "# loops"
   ]
  },
  {
   "cell_type": "markdown",
   "id": "1890955e",
   "metadata": {},
   "source": [
    "#for- for running a block of code a set number of times\n",
    "\n",
    "#while- for running a block of code until a condition is met"
   ]
  },
  {
   "cell_type": "code",
   "execution_count": null,
   "id": "94d3cc32",
   "metadata": {},
   "outputs": [],
   "source": [
    "l = [1,2,3,4,5,6]\n",
    "#its an L not a one\n",
    "for num in l:\n",
    "    print(num * 2)"
   ]
  },
  {
   "cell_type": "code",
   "execution_count": null,
   "id": "e4ff5b47",
   "metadata": {},
   "outputs": [],
   "source": [
    "#print weather the number is odd or even\n",
    "\n",
    "list(range(1, 21))"
   ]
  },
  {
   "cell_type": "code",
   "execution_count": null,
   "id": "a013d07d",
   "metadata": {},
   "outputs": [],
   "source": [
    "for num in range(21):\n",
    "    if num % 2 == 0:\n",
    "        print(num,\" this is an even number\")\n",
    "    else:\n",
    "        print(num,\" this number is an odd number\")"
   ]
  },
  {
   "cell_type": "code",
   "execution_count": null,
   "id": "ebf03bda",
   "metadata": {},
   "outputs": [],
   "source": [
    "for num in range(21):\n",
    "    if num == 10:\n",
    "        print(num,\" Found Ben!\")"
   ]
  },
  {
   "cell_type": "code",
   "execution_count": null,
   "id": "a73016be",
   "metadata": {},
   "outputs": [],
   "source": [
    "for num in range(1,11):\n",
    "    if num % 2 == 0:\n",
    "        print(num **2, end = ',')"
   ]
  },
  {
   "cell_type": "code",
   "execution_count": null,
   "id": "229c3f8a",
   "metadata": {},
   "outputs": [],
   "source": [
    "l = []\n",
    "for num in range(1,11):\n",
    "    if num % 2 == 0:\n",
    "        l.append(num **2)"
   ]
  },
  {
   "cell_type": "code",
   "execution_count": null,
   "id": "37e3237f",
   "metadata": {},
   "outputs": [],
   "source": [
    "l"
   ]
  },
  {
   "cell_type": "markdown",
   "id": "0dd0fb49",
   "metadata": {},
   "source": [
    "# while"
   ]
  },
  {
   "cell_type": "markdown",
   "id": "558ec949",
   "metadata": {},
   "source": [
    "#the while loop will execute it's body until the condition evaluates false."
   ]
  },
  {
   "cell_type": "code",
   "execution_count": null,
   "id": "b095a52e",
   "metadata": {},
   "outputs": [],
   "source": [
    "i = 1\n",
    "while i < 10:\n",
    "    print(i)\n",
    "    i = i + 1"
   ]
  },
  {
   "cell_type": "code",
   "execution_count": null,
   "id": "08c6aa9c",
   "metadata": {},
   "outputs": [],
   "source": [
    "i = 1\n",
    "while i < 10:\n",
    "    print(i)\n",
    "    i = i + 1 #can get caught in a loop"
   ]
  },
  {
   "cell_type": "code",
   "execution_count": null,
   "id": "57141bf0",
   "metadata": {},
   "outputs": [],
   "source": [
    "store_password = 'password123'\n",
    "user_input = input(\"please enter a password: \")\n",
    "\n",
    "while user_input != store_password:\n",
    "    print('incorrect password')\n",
    "    user_input = input(\"please enter a password: \")\n",
    "    \n",
    "    \n",
    "print('You may proceed now')\n",
    "\n",
    "#if you want to limit use if statements"
   ]
  },
  {
   "cell_type": "markdown",
   "id": "bac73431",
   "metadata": {},
   "source": [
    "# break"
   ]
  },
  {
   "cell_type": "markdown",
   "id": "755a612d",
   "metadata": {},
   "source": [
    "-break will stop executing the entirely"
   ]
  },
  {
   "cell_type": "code",
   "execution_count": null,
   "id": "ce65ca6d",
   "metadata": {},
   "outputs": [],
   "source": [
    "for num in range(1,20):\n",
    "    print(num)\n",
    "    if num > 15:\n",
    "        break"
   ]
  },
  {
   "cell_type": "code",
   "execution_count": null,
   "id": "ef403910",
   "metadata": {},
   "outputs": [],
   "source": [
    "user_input = 12\n",
    "i = 1\n",
    "available_candy = 7\n",
    "\n",
    "while i < user_input:\n",
    "    \n",
    "    if i > available_candy:\n",
    "        print('sorry, out of candy')\n",
    "        break\n",
    "    print(i, 'Here is your candy')\n",
    "    i = i + 1"
   ]
  },
  {
   "cell_type": "markdown",
   "id": "5abb0167",
   "metadata": {},
   "source": [
    "# continue\n",
    "-continue will skip to the next iteration of a loop"
   ]
  },
  {
   "cell_type": "code",
   "execution_count": null,
   "id": "6b81a329",
   "metadata": {},
   "outputs": [],
   "source": [
    "#print odd numbers only\n",
    "\n",
    "l = [1,2,3,4,6,2,12,44,15,17]\n",
    "\n",
    "for num in l:\n",
    "    if num % 2 == 0:\n",
    "        continue\n",
    "    print(num,\"here is an odd number\")"
   ]
  },
  {
   "cell_type": "code",
   "execution_count": null,
   "id": "fd7df7e4",
   "metadata": {},
   "outputs": [],
   "source": [
    "is_monday = 'monday'\n",
    "day_of_the_week = input(\"please enter a day: \")\n",
    "\n",
    "while day_of_the_week != is_monday:\n",
    "    print('is not monday')\n",
    "print('is monday')"
   ]
  },
  {
   "cell_type": "code",
   "execution_count": null,
   "id": "70b6ff06",
   "metadata": {},
   "outputs": [],
   "source": [
    "#prompt the user for a day of the week, print out whether the day is a weekday or a weekend\n",
    "\n",
    "def weekend_or_weekday():\n",
    "    x = input(\"please enter a day in lower case: \")\n",
    "    if x == 'monday':\n",
    "        print('weekday')\n",
    "    if x == 'tuesday':\n",
    "        print('weekday')\n",
    "    if x == 'wednesday':\n",
    "        print('weekday')\n",
    "    if x == 'thurday':\n",
    "        print('weekday')\n",
    "    if x == 'friday':\n",
    "        print('weekday')\n",
    "    if x == 'saturday':\n",
    "        print('weekend')\n",
    "    if x == 'sunday':\n",
    "        print('weekend')\n",
    "        \n",
    "weekend_or_weekday()"
   ]
  },
  {
   "cell_type": "code",
   "execution_count": null,
   "id": "daac9925",
   "metadata": {
    "scrolled": true
   },
   "outputs": [],
   "source": [
    "\n",
    "def is_monday():\n",
    "    x = input(\"enter a day: \")\n",
    "    if x == 'monday':\n",
    "        return True\n",
    "    if x == 'Monday':\n",
    "        return True\n",
    "    else:\n",
    "        return False\n",
    "        \n",
    "is_monday()"
   ]
  },
  {
   "cell_type": "code",
   "execution_count": null,
   "id": "a5a84e46",
   "metadata": {},
   "outputs": [],
   "source": [
    "def weekly_pay_check():\n",
    "    x=int(input(\"enter number of hours worked this week: \"))\n",
    "    if  x <= 40:\n",
    "        return (x * 17.50)\n",
    "    if x > 40:\n",
    "        return (x * 40) + ((x - 40) * (23.25))\n",
    "weekly_pay_check()"
   ]
  },
  {
   "cell_type": "code",
   "execution_count": null,
   "id": "24af8a13",
   "metadata": {},
   "outputs": [],
   "source": [
    "\n",
    "hrs = int(input(\"enter hrs: \"))\n",
    "h = float(hrs)\n",
    "\n",
    "rate = (\"Enter Rate:\")\n",
    "r = 17.50\n",
    "\n",
    "pay = h*r\n",
    "if h<=40:\n",
    "\n",
    "    print(pay)\n",
    "if h > 40:\n",
    "\n",
    "    pay = (40*r)+(h-40)*(1.5*r)\n",
    "    print(pay)\n",
    "    \n",
    "    #Create a while loop that starts at 2, \n",
    "    #and displays the number squared on each line while the number is less than 1,000,000. Output should equal:\n"
   ]
  },
  {
   "cell_type": "code",
   "execution_count": null,
   "id": "08182ca8",
   "metadata": {},
   "outputs": [],
   "source": [
    "k = 2\n",
    "while k < 1000000:\n",
    "    print(k)\n",
    "    k = k ** k\n",
    "k"
   ]
  },
  {
   "cell_type": "code",
   "execution_count": null,
   "id": "1c5a5055",
   "metadata": {},
   "outputs": [],
   "source": [
    "l = 100\n",
    "for l in range(100,0,-5):\n",
    "    print(l)\n",
    "l"
   ]
  },
  {
   "cell_type": "code",
   "execution_count": null,
   "id": "bdda4237",
   "metadata": {},
   "outputs": [],
   "source": [
    "n = 7\n",
    "i = 1\n",
    "for i in range(1,11):\n",
    "    print(n,\"x\",i, \"=\", (n * i ))\n",
    "    i <= 10 ++ i\n",
    "n"
   ]
  },
  {
   "cell_type": "code",
   "execution_count": null,
   "id": "38a2f6a6",
   "metadata": {},
   "outputs": [],
   "source": [
    "n = 2\n",
    "\n",
    "for i in range(2,10):\n",
    "    for j in range(1, i+1):\n",
    "        print(i, end = \"\")\n",
    "n"
   ]
  },
  {
   "cell_type": "code",
   "execution_count": null,
   "id": "6129c980",
   "metadata": {},
   "outputs": [],
   "source": [
    "for i in range(2,10):\n",
    "    for j in range(1, i+1):\n",
    "        print(i, end=\"\")"
   ]
  },
  {
   "cell_type": "code",
   "execution_count": null,
   "id": "82f6d076",
   "metadata": {},
   "outputs": [],
   "source": [
    "for num in range(49):\n",
    "    if num % 2 != 0:\n",
    "        print(num,\" this is an even number\")\n",
    "    if num is 27:\n",
    "        print(num,\" this number is an odd number\")"
   ]
  },
  {
   "cell_type": "code",
   "execution_count": null,
   "id": "cd3eb51e",
   "metadata": {},
   "outputs": [],
   "source": [
    "for i in range(1, 10):\n",
    "    o = str(i) * int(i)\n",
    "    print(o)\n"
   ]
  },
  {
   "cell_type": "code",
   "execution_count": null,
   "id": "20bbaa59",
   "metadata": {},
   "outputs": [],
   "source": [
    "odd_choice = None\n",
    "\n",
    "while odd_choice == None:\n",
    "    odd_choice = input(\"please select an off number between 1 and 50: \")\n",
    "    if odd_choice.isdigit() and int(odd_choice) >= 1 and int(odd_choice) < 50 and (int(odd_choice) % 2 != 0):\n",
    "        print('Here is an odd number: ')\n",
    "        break\n",
    "    if 27:\n",
    "        print(\"Not a valid input.\")\n",
    "    odd_choice = None\n",
    "    continue"
   ]
  },
  {
   "cell_type": "code",
   "execution_count": null,
   "id": "36c527a6",
   "metadata": {},
   "outputs": [],
   "source": [
    "user_input = 12\n",
    "i = 1\n",
    "available_candy = 7\n",
    "\n",
    "while i < user_input:\n",
    "    \n",
    "    if i > available_candy:\n",
    "        print('sorry, out of candy')\n",
    "        break\n",
    "    print(i, 'Here is your candy')\n",
    "    i = i + 1"
   ]
  },
  {
   "cell_type": "code",
   "execution_count": null,
   "id": "858670f5",
   "metadata": {},
   "outputs": [],
   "source": [
    "while True:\n",
    "    yike = input('enter an odd number from 1 - 50: ')\n",
    "    if yike.isdigit():\n",
    "        yike =int(yike)\n",
    "        if yike % 2 == 0:\n",
    "            print('sir this is not an odd number')\n",
    "        else:\n",
    "            print(\"checks out\")\n",
    "            break\n",
    "    else:\n",
    "        print(\"numbers please\")\n",
    "\n",
    "print(\"number to skip is: \", yike)\n",
    "\n",
    "for h in range(50):\n",
    "    if yike == h:\n",
    "        print(\"Yikes! skipping number:\", yike)\n",
    "    elif h % 2 == 1:\n",
    "        print(\"here is and off number:\", h)"
   ]
  },
  {
   "cell_type": "code",
   "execution_count": null,
   "id": "b9e88030",
   "metadata": {},
   "outputs": [],
   "source": [
    "for num in range(1, 101):\n",
    "    fb = ''\n",
    "    if num % 3 == 0:\n",
    "        fb += 'Fizz'\n",
    "    if num % 5 == 0:\n",
    "        fb += 'Buzz'\n",
    "    if not fb:\n",
    "        fb = num\n",
    "    print(fb)\n"
   ]
  },
  {
   "cell_type": "code",
   "execution_count": null,
   "id": "17da901b",
   "metadata": {},
   "outputs": [],
   "source": [
    "top_output_format = \"{col_num:>8s} | {col_square:>8s} | {col_cube:>8s}\"\n",
    "lbl_num = '{:<8s}'.format('number')\n",
    "lbl_square = '{:<8s}'.format('squared')\n",
    "lbl_cube = '{:<8s}'.format('cubed')\n",
    "lbl_fill = '{:-<8s}'.format('')\n",
    "\n",
    "def output_table_of_powers(upto_number):\n",
    "    print('\\nTable for {}\\n'.format(upto_number))\n",
    "    print(top_output_format.format(col_num=lbl_num, col_square=lbl_square, col_cube=lbl_cube))\n",
    "    print(top_output_format.format(col_num=lbl_fill, col_square=lbl_fill, col_cube=lbl_fill))\n",
    "    for num in range(1, upto_number + 1):\n",
    "        print(top_output_format.format(col_num=str(num), col_square=str(num **2), col_cube=str(num ** 3)))\n",
    "\n",
    "def get_user_number_for_table():\n",
    "    go_on = 'Y'\n",
    "    \n",
    "    while go_on == 'Y':\n",
    "        user_input = input('Gimmie a positive integer to power up: ')\n",
    "        \n",
    "        if user_input.isdigit() == False:\n",
    "            print(f'{user_input} ain\\'t no positive integer. How\\'s about 5?')\n",
    "            user_input = 5\n",
    "\n",
    "        user_int = int(user_input)\n",
    "\n",
    "        if user_int > 20:\n",
    "            print('Sorry, I ain\\'t countin\\' that high. How\\'s about 20?')\n",
    "            user_int = 20\n",
    "\n",
    "        if user_int < 3:\n",
    "            print('Don\\'t wanna go that low. How\\'s about 3?')\n",
    "            user_int = 3\n",
    "\n",
    "        output_table_of_powers(user_int)\n",
    "        \n",
    "        go_on = input('Wanna try again? (Y/N) ').upper()\n",
    "        \n",
    "\n",
    "get_user_number_for_table()"
   ]
  },
  {
   "cell_type": "markdown",
   "id": "a63ae065",
   "metadata": {},
   "source": [
    "# lambda"
   ]
  },
  {
   "cell_type": "code",
   "execution_count": null,
   "id": "ee89bdb0",
   "metadata": {},
   "outputs": [],
   "source": [
    "add_one = lambda n: n + 1\n",
    "add_one(9)"
   ]
  },
  {
   "cell_type": "code",
   "execution_count": null,
   "id": "a7cdf79a",
   "metadata": {},
   "outputs": [],
   "source": [
    "x = 400/ 200\n",
    "\n",
    "def is_two(x):\n",
    "    #x = input(\"enter an input: \")\n",
    "    #print(type(x))\n",
    "    if x == 2:\n",
    "        return True\n",
    "    elif x == ('2'):\n",
    "        return True\n",
    "    else:\n",
    "        return False\n",
    "\n",
    "#is_two(2)"
   ]
  },
  {
   "cell_type": "code",
   "execution_count": null,
   "id": "69571d27",
   "metadata": {},
   "outputs": [],
   "source": [
    "def is_two(x):\n",
    "\n",
    "    if x == 2 or x == '2':\n",
    "        return True\n",
    "    else:\n",
    "        return False\n",
    "\n",
    "#is_two(2)"
   ]
  },
  {
   "cell_type": "code",
   "execution_count": null,
   "id": "7ae28b2a",
   "metadata": {},
   "outputs": [],
   "source": [
    "# This is using the function defined above\n",
    "is_two('two')"
   ]
  },
  {
   "cell_type": "code",
   "execution_count": null,
   "id": "1a570848",
   "metadata": {},
   "outputs": [],
   "source": [
    "y = 1"
   ]
  },
  {
   "cell_type": "code",
   "execution_count": null,
   "id": "422f84bd",
   "metadata": {},
   "outputs": [],
   "source": [
    "is_two('2')"
   ]
  },
  {
   "cell_type": "code",
   "execution_count": null,
   "id": "0ae604bf",
   "metadata": {},
   "outputs": [],
   "source": [
    "x = '2'"
   ]
  },
  {
   "cell_type": "code",
   "execution_count": null,
   "id": "4c839a45",
   "metadata": {},
   "outputs": [],
   "source": [
    "is_two(x)"
   ]
  },
  {
   "cell_type": "markdown",
   "id": "5608c966",
   "metadata": {},
   "source": [
    "# vowel\n"
   ]
  },
  {
   "cell_type": "code",
   "execution_count": null,
   "id": "364a6f6c",
   "metadata": {},
   "outputs": [],
   "source": [
    "def is_vowel(x):\n",
    "    vowel = ['A','E','I','O','U','a','e','i','o','u']\n",
    "    if x in vowel:\n",
    "        return True\n",
    "    else:\n",
    "        return False\n",
    "\n",
    "is_vowel('A')"
   ]
  },
  {
   "cell_type": "code",
   "execution_count": null,
   "id": "5b676668",
   "metadata": {},
   "outputs": [],
   "source": [
    "# is alpha only checks   x.isalpha() will only check alphabet"
   ]
  },
  {
   "cell_type": "code",
   "execution_count": null,
   "id": "5bd6ad32",
   "metadata": {},
   "outputs": [],
   "source": [
    "def is_consonant(x):\n",
    "    if not is_vowel(x) and x.isalpha():\n",
    "        return True\n",
    "    else:\n",
    "        return False"
   ]
  },
  {
   "cell_type": "code",
   "execution_count": null,
   "id": "220b0b03",
   "metadata": {},
   "outputs": [],
   "source": [
    "is_consonant('2')"
   ]
  },
  {
   "cell_type": "code",
   "execution_count": null,
   "id": "ebcbc06a",
   "metadata": {},
   "outputs": [],
   "source": [
    "def cap_consonant(text):\n",
    "    if is_consonant(text[0]): #[]this cap first letter\n",
    "        return text.capitalize()\n",
    "    else:\n",
    "        return text"
   ]
  },
  {
   "cell_type": "code",
   "execution_count": null,
   "id": "fd80f4f4",
   "metadata": {},
   "outputs": [],
   "source": [
    "cap_consonant('hllo waffles')"
   ]
  },
  {
   "cell_type": "code",
   "execution_count": null,
   "id": "9b4cf854",
   "metadata": {},
   "outputs": [],
   "source": [
    "def calculate_tip():\n",
    "    tip = float(input(\"enter tip percentage: \"))\n",
    "    bill = float(input(\"enter bill amount before tip: \"))\n",
    "    return bill * (tip/100)"
   ]
  },
  {
   "cell_type": "code",
   "execution_count": null,
   "id": "29e91299",
   "metadata": {},
   "outputs": [],
   "source": [
    "calculate_tip()"
   ]
  },
  {
   "cell_type": "markdown",
   "id": "55159b3b",
   "metadata": {},
   "source": [
    "# ingredients of algorithms\n",
    "the \"big3\" components of ingridients of algorithms:\n",
    "    \n",
    "An algorithm is a formalized sequence of steps to solve a problem\n",
    "- cookie recipie is an algorithm(following each step to the letter)\n",
    "- calculating the average of a list of numbers\n",
    "- turbo tax runs a algrthms\n",
    "\n",
    "## 3 parts to algorithms\n",
    "- sequence\n",
    "- selection\n",
    "- iteration\n",
    "\n",
    "### sequence\n",
    "- the orders of our line of code\n",
    "- order of operations\n",
    "- pemdas (parantheses, exponents, multiplication, division, addition, subtraction)\n",
    "- order of logical operations (use parethesis or lines of code to make your order of logical operations concrete)\n",
    "- code runs from top tp bottom (unless told otherwise)\n",
    "- functions (run(from(inside(out)))) like increment (increment(1)) == 2\n",
    "- method.run().from().left().to().right() (methods are functions that live in objects)\n",
    "- line 1 runs code, then python runs line 2, etc...."
   ]
  },
  {
   "cell_type": "code",
   "execution_count": null,
   "id": "586e3633",
   "metadata": {},
   "outputs": [],
   "source": [
    "#example of methods  running from left to right:\n",
    "beatles = \"John, Paul, George, Ringo\"\n",
    "beatles.lower().swapcase().replace(\"RINGO\", \"Neil Pert\")"
   ]
  },
  {
   "cell_type": "code",
   "execution_count": 15,
   "id": "9ecf5d5f",
   "metadata": {},
   "outputs": [
    {
     "ename": "NameError",
     "evalue": "name 'beatles' is not defined",
     "output_type": "error",
     "traceback": [
      "\u001b[0;31m---------------------------------------------------------------------------\u001b[0m",
      "\u001b[0;31mNameError\u001b[0m                                 Traceback (most recent call last)",
      "\u001b[0;32m/var/folders/6l/s35v3d3n6fqg6xn2wzxj1nlr0000gn/T/ipykernel_7143/1307433012.py\u001b[0m in \u001b[0;36m<module>\u001b[0;34m\u001b[0m\n\u001b[0;32m----> 1\u001b[0;31m \u001b[0mlen\u001b[0m\u001b[0;34m(\u001b[0m\u001b[0mbeatles\u001b[0m\u001b[0;34m.\u001b[0m\u001b[0mlower\u001b[0m\u001b[0;34m(\u001b[0m\u001b[0;34m)\u001b[0m\u001b[0;34m.\u001b[0m\u001b[0mswapcase\u001b[0m\u001b[0;34m(\u001b[0m\u001b[0;34m)\u001b[0m\u001b[0;34m.\u001b[0m\u001b[0mreplace\u001b[0m\u001b[0;34m(\u001b[0m\u001b[0;34m\"RINGO\"\u001b[0m\u001b[0;34m,\u001b[0m \u001b[0;34m\"Neil Pert\"\u001b[0m\u001b[0;34m)\u001b[0m\u001b[0;34m)\u001b[0m \u001b[0;31m#counts characters in result\u001b[0m\u001b[0;34m\u001b[0m\u001b[0;34m\u001b[0m\u001b[0m\n\u001b[0m",
      "\u001b[0;31mNameError\u001b[0m: name 'beatles' is not defined"
     ]
    }
   ],
   "source": [
    "len(beatles.lower().swapcase().replace(\"RINGO\", \"Neil Pert\")) #counts characters in result"
   ]
  },
  {
   "cell_type": "code",
   "execution_count": null,
   "id": "4e54225e",
   "metadata": {},
   "outputs": [],
   "source": [
    "#normalize name function\n",
    "#lowercase everything\n",
    "#convert spaces to underscores\n",
    "#strip any trailing or prepended whitespace\n",
    "#filter out only valid python identifiers\n",
    "\n",
    "string = \"  PYTHON@codeup rocks!    \"\n",
    "correct = \"pythoncodeup_rocks\"\n",
    "\n",
    "string.strip()\n",
    "string = string.replace(\" \",\"_\")\n",
    "string"
   ]
  },
  {
   "cell_type": "markdown",
   "id": "8c355d85",
   "metadata": {},
   "source": [
    "# strip string\n",
    "\n",
    "- string = string.strip()\n",
    "- string = string.replace()"
   ]
  },
  {
   "cell_type": "code",
   "execution_count": null,
   "id": "796be77e",
   "metadata": {},
   "outputs": [],
   "source": [
    "\n",
    "string = \"  PYTHON@codeup rocks!    \"\n",
    "correct = \"pythoncodeup_rocks\"\n",
    "\n",
    "string.strip().replace(\" \",\"_\").lower()\n",
    "\n",
    "string"
   ]
  },
  {
   "cell_type": "code",
   "execution_count": null,
   "id": "9b42ee34",
   "metadata": {},
   "outputs": [],
   "source": [
    "string = string.strip()\n",
    "string = string.replace(\" \",\"_\")\n",
    "string = string.lower()\n",
    "string"
   ]
  },
  {
   "cell_type": "code",
   "execution_count": null,
   "id": "1d436454",
   "metadata": {},
   "outputs": [],
   "source": [
    "# \\ backslash \n",
    "print(\"\\n\")\n",
    "print(\"Hello\")"
   ]
  },
  {
   "cell_type": "code",
   "execution_count": null,
   "id": "7a949d33",
   "metadata": {},
   "outputs": [],
   "source": [
    "#\\ is like a teleport to continue \n",
    "2\\\n",
    "+\\\n",
    "2"
   ]
  },
  {
   "cell_type": "code",
   "execution_count": null,
   "id": "8689dbec",
   "metadata": {},
   "outputs": [],
   "source": [
    "2\n",
    "+\n",
    "2"
   ]
  },
  {
   "cell_type": "code",
   "execution_count": null,
   "id": "95c6f6f3",
   "metadata": {},
   "outputs": [],
   "source": [
    "(2\n",
    "+\n",
    "2)"
   ]
  },
  {
   "cell_type": "markdown",
   "id": "7c1817ae",
   "metadata": {},
   "source": [
    "### perspective\n",
    "- variables are abstactions for values, values like 2 or \"bob\"\n",
    "- our variables will alaways point to something or give is a name error \n",
    "- our type errors are errors in sequence\n",
    "\n",
    "computers run the code they are told to run, not the code you want/expect to run "
   ]
  },
  {
   "cell_type": "markdown",
   "id": "46bedf6a",
   "metadata": {},
   "source": [
    "## selection\n",
    "- selecting what runs\n",
    "- conditionals like if conditions\n",
    "- if/else conditions\n",
    "- if/elif/elif/elif/elif/else\n",
    "\n",
    "with selection, we're controlling what code runs and what doesnt run.\n",
    "\n",
    "- if on its own is a side quest\n",
    "- if/else is a fork on the road. left or right, no other option\n",
    "- if/elif/elif/elif/elif/else is many forks on the road as we need for the problem"
   ]
  },
  {
   "cell_type": "markdown",
   "id": "00165471",
   "metadata": {},
   "source": [
    "## when do we use conditional like and if\n",
    "- when you need code itself to ask and answer a question\n",
    "- if you are ever stuck overthinking \"i need the code to check on something\", then you're in a selection land\n",
    "- beating heart of selction is boolean evaluation(evaluating an expression gives us True or False)\n",
    "- Conditionals(selection tools) are an abstraction for decision."
   ]
  },
  {
   "cell_type": "code",
   "execution_count": null,
   "id": "50d7e585",
   "metadata": {},
   "outputs": [],
   "source": [
    "is_raining = True\n",
    "\n",
    "print(\"its going to be a great day\")\n",
    "if is_raining:\n",
    "    print(\"ill bring an umbrella\")\n",
    "        \n",
    "print('I had a great day at code up today')"
   ]
  },
  {
   "cell_type": "markdown",
   "id": "1058fc13",
   "metadata": {},
   "source": [
    "# iteration\n",
    "- do something over and over again\n",
    "- iteration is how we repeat code.\n",
    "- tools for iteration:\n",
    "    - while loop(low chance of building your DS castlewith while loops)\n",
    "       \n",
    "- while loops == potential for infinite loop:\n",
    "    - rejectinf inputs that aren't the right shape or data type\n",
    "    - while loops are super usefull with video games and elevator control software"
   ]
  },
  {
   "cell_type": "code",
   "execution_count": null,
   "id": "e029b646",
   "metadata": {},
   "outputs": [],
   "source": [
    "#put all together\n",
    "#given a list of numbers\n",
    "#output only the even numbers plus one \n",
    "numbers = [1,2,3,4,5,6]\n",
    "for n in numbers:\n",
    "    if n % 2 == 0:\n",
    "        print(n+1)"
   ]
  },
  {
   "cell_type": "markdown",
   "id": "84358f18",
   "metadata": {},
   "source": [
    "# How to solve looping problems\n",
    "- one weird trick to solving looping problems: blow off the loop.\n",
    "- why?\n",
    "    - simplify the problem\n",
    "    - reducing cognitive overhead\n",
    "    - emotionally, solving a simpler problem is good for your morale\n",
    "    - create emotional momentum by solving simpler problems sequentially vs. one big perfect solution the first time"
   ]
  },
  {
   "cell_type": "code",
   "execution_count": null,
   "id": "72e37670",
   "metadata": {},
   "outputs": [],
   "source": [
    "# exercise\n",
    "# whats the avg of all student grades?\n",
    "# initially, we see list of dictionaries where one key is another list of numbers\n",
    "\n",
    "\n",
    "#step 1 is to blow off loop. \n",
    "# step 2  is we make singular variable that holds the first item on that list\n",
    "student = students[0]\n",
    "student\n",
    "#step 3: ok, what is the question asking about, if we only had one thing on the list\n",
    "#step 4: think, plan, solve with singular case "
   ]
  },
  {
   "cell_type": "code",
   "execution_count": null,
   "id": "be1f5ee5",
   "metadata": {},
   "outputs": [],
   "source": [
    "# when having a solution for one thing \n",
    "#pictures\n"
   ]
  },
  {
   "cell_type": "code",
   "execution_count": null,
   "id": "22098287",
   "metadata": {},
   "outputs": [],
   "source": [
    "total = 0\n",
    "total += 1.99\n",
    "total"
   ]
  },
  {
   "cell_type": "code",
   "execution_count": null,
   "id": "4a179e99",
   "metadata": {},
   "outputs": [],
   "source": [
    "students = [\n",
    "    {\n",
    "        \"id\": \"100001\",\n",
    "        \"student\": \"Ada Lovelace\",\n",
    "        \"coffee_preference\": \"light\",\n",
    "        \"course\": \"web development\",\n",
    "        \"grades\": [70, 91, 82, 71],\n",
    "        \"pets\": [{\"species\": \"horse\", \"age\": 8}],\n",
    "    },\n",
    "    {\n",
    "        \"id\": \"100002\",\n",
    "        \"student\": \"Thomas Bayes\",\n",
    "        \"coffee_preference\": \"medium\",\n",
    "        \"course\": \"data science\",\n",
    "        \"grades\": [75, 73, 86, 100],\n",
    "        \"pets\": [],\n",
    "    },\n",
    "    {\n",
    "        \"id\": \"100003\",\n",
    "        \"student\": \"Marie Curie\",\n",
    "        \"coffee_preference\": \"light\",\n",
    "        \"course\": \"web development\",\n",
    "        \"grades\": [70, 89, 69, 65],\n",
    "        \"pets\": [{\"species\": \"cat\", \"age\": 0}],\n",
    "    },\n",
    "    {\n",
    "        \"id\": \"100004\",\n",
    "        \"student\": \"Grace Hopper\",\n",
    "        \"coffee_preference\": \"dark\",\n",
    "        \"course\": \"data science\",\n",
    "        \"grades\": [73, 66, 83, 92],\n",
    "        \"pets\": [{\"species\": \"dog\", \"age\": 4}, {\"species\": \"cat\", \"age\": 4}],\n",
    "    },\n",
    "    {\n",
    "        \"id\": \"100005\",\n",
    "        \"student\": \"Alan Turing\",\n",
    "        \"coffee_preference\": \"dark\",\n",
    "        \"course\": \"web development\",\n",
    "        \"grades\": [78, 98, 85, 65],\n",
    "        \"pets\": [\n",
    "            {\"species\": \"horse\", \"age\": 6},\n",
    "            {\"species\": \"horse\", \"age\": 7},\n",
    "            {\"species\": \"dog\", \"age\": 5},\n",
    "        ],\n",
    "    },\n",
    "    {\n",
    "        \"id\": \"100006\",\n",
    "        \"student\": \"Rosalind Franklin\",\n",
    "        \"coffee_preference\": \"dark\",\n",
    "        \"course\": \"data science\",\n",
    "        \"grades\": [76, 70, 96, 81],\n",
    "        \"pets\": [],\n",
    "    },\n",
    "    {\n",
    "        \"id\": \"100007\",\n",
    "        \"student\": \"Elizabeth Blackwell\",\n",
    "        \"coffee_preference\": \"dark\",\n",
    "        \"course\": \"web development\",\n",
    "        \"grades\": [69, 94, 89, 86],\n",
    "        \"pets\": [{\"species\": \"cat\", \"age\": 10}],\n",
    "    },\n",
    "    {\n",
    "        \"id\": \"100008\",\n",
    "        \"student\": \"Rene Descartes\",\n",
    "        \"coffee_preference\": \"medium\",\n",
    "        \"course\": \"data science\",\n",
    "        \"grades\": [87, 79, 90, 99],\n",
    "        \"pets\": [{\"species\": \"cat\", \"age\": 10}, {\"species\": \"cat\", \"age\": 8}],\n",
    "    },\n",
    "    {\n",
    "        \"id\": \"100009\",\n",
    "        \"student\": \"Ahmed Zewail\",\n",
    "        \"coffee_preference\": \"medium\",\n",
    "        \"course\": \"data science\",\n",
    "        \"grades\": [74, 99, 93, 89],\n",
    "        \"pets\": [{\"species\": \"cat\", \"age\": 0}, {\"species\": \"cat\", \"age\": 0}],\n",
    "    },\n",
    "    {\n",
    "        \"id\": \"100010\",\n",
    "        \"student\": \"Chien-Shiung Wu\",\n",
    "        \"coffee_preference\": \"medium\",\n",
    "        \"course\": \"web development\",\n",
    "        \"grades\": [82, 92, 91, 65],\n",
    "        \"pets\": [{\"species\": \"cat\", \"age\": 8}],\n",
    "    },\n",
    "    {\n",
    "        \"id\": \"100011\",\n",
    "        \"student\": \"William Sanford Nye\",\n",
    "        \"coffee_preference\": \"dark\",\n",
    "        \"course\": \"data science\",\n",
    "        \"grades\": [70, 92, 65, 99],\n",
    "        \"pets\": [{\"species\": \"cat\", \"age\": 8}, {\"species\": \"cat\", \"age\": 5}],\n",
    "    },\n",
    "    {\n",
    "        \"id\": \"100012\",\n",
    "        \"student\": \"Carl Sagan\",\n",
    "        \"coffee_preference\": \"medium\",\n",
    "        \"course\": \"data science\",\n",
    "        \"grades\": [100, 86, 91, 87],\n",
    "        \"pets\": [{\"species\": \"cat\", \"age\": 10}],\n",
    "    },\n",
    "    {\n",
    "        \"id\": \"100013\",\n",
    "        \"student\": \"Jane Goodall\",\n",
    "        \"coffee_preference\": \"light\",\n",
    "        \"course\": \"web development\",\n",
    "        \"grades\": [80, 70, 68, 98],\n",
    "        \"pets\": [{\"species\": \"horse\", \"age\": 4}],\n",
    "    },\n",
    "    {\n",
    "        \"id\": \"100014\",\n",
    "        \"student\": \"Richard Feynman\",\n",
    "        \"coffee_preference\": \"medium\",\n",
    "        \"course\": \"web development\",\n",
    "        \"grades\": [73, 99, 86, 98],\n",
    "        \"pets\": [{\"species\": \"dog\", \"age\": 6}],\n",
    "    },\n",
    "]"
   ]
  },
  {
   "cell_type": "code",
   "execution_count": null,
   "id": "2e790ffc",
   "metadata": {},
   "outputs": [],
   "source": [
    "len(students)"
   ]
  },
  {
   "cell_type": "code",
   "execution_count": null,
   "id": "757baf4e",
   "metadata": {},
   "outputs": [],
   "source": [
    "drinkers = 0\n",
    "\n",
    "for i in range(0,14):\n",
    "    a = students[i][\"coffee_preference\"]\n",
    "    if a == 'light':\n",
    "        drinkers += 1\n",
    "        \n",
    "drinkers"
   ]
  },
  {
   "cell_type": "code",
   "execution_count": null,
   "id": "c6b837f9",
   "metadata": {},
   "outputs": [],
   "source": [
    "drinkers = 0\n",
    "\n",
    "for i in range(0,14):\n",
    "    a = students[i][\"coffee_preference\"]\n",
    "    if a == 'medium':\n",
    "        drinkers += 1\n",
    "        \n",
    "drinkers"
   ]
  },
  {
   "cell_type": "code",
   "execution_count": null,
   "id": "6ac0ad63",
   "metadata": {},
   "outputs": [],
   "source": [
    "drinkers = 0\n",
    "\n",
    "for i in range(0,14):\n",
    "    a = students[i][\"coffee_preference\"]\n",
    "    if a == 'dark':\n",
    "        drinkers += 1\n",
    "        \n",
    "drinkers"
   ]
  },
  {
   "cell_type": "markdown",
   "id": "be545f51",
   "metadata": {},
   "source": [
    "# imports"
   ]
  },
  {
   "cell_type": "markdown",
   "id": "abdf7839",
   "metadata": {},
   "source": [
    "Goals\n",
    "Following this lesson you should be able to:\n",
    "\n",
    "Understand the differences between Modules, Libraries & Packages.\n",
    "Install a new package, taking adequate safety measures.\n",
    "Import a base python or pypi module, with and without an alias, and run a function that exists in that module.\n",
    "Import a module you created, and run a function that exists in that module.\n",
    "Import a function from a module, with and without an alias, and run that function.\n",
    "\n",
    "## modules\n",
    "\n",
    "- A Module is an python file with a .py extension.\n",
    "\n",
    "- Modules contain functions and variables. A module can exist in:\n",
    "\n",
    "- The python standard library\n",
    "- Community developed packages\n",
    "\n",
    "## package\n",
    "\n",
    "- A Package is a directory that contains modules.\n",
    "\n",
    "- It can also consist of other packages, or 'sub-packages'. Packages are a way to distribute one or more modules. We install packages in order to be able to import modules or libraries for use.\n",
    "\n",
    "## library\n",
    "\n",
    "- A Library is a collection of code, data, documentation, and configuration, usually purpose built for specific tasks.\n",
    "\n",
    "- Libraries can be very large in scope like numpy, a library the forms the base for most other scientific packages in python, or matplotlib, the library we'll use for data visualization. Other libraries are smaller in scope, like requests, a library for sending HTTP requests.\n",
    "\n",
    "##  python package\n",
    "\n",
    "- The Python Package Index, PyPI, https://pypi.org/, is a repository of community developed Python packages.\n",
    "\n",
    "## conda\n",
    "\n",
    "- Anaconda's Conda product is a package manager. It helps you find and install 3rd party packages."
   ]
  },
  {
   "cell_type": "markdown",
   "id": "4a141430",
   "metadata": {},
   "source": [
    "### installing packages\n",
    "\n",
    "- Installing Packages\n",
    "- We can only import the libraries and modules of packages that have been installed. In other words, in order to import a library or a module we have to install a package that contains it. Because we installed python with anaconda, we already have many 3rd party packages commonly used in data science work installed.\n",
    "\n",
    "- To install additional packages, we run commands in the shell in our terminal application (not within a python session)."
   ]
  },
  {
   "cell_type": "code",
   "execution_count": 19,
   "id": "d7803809",
   "metadata": {},
   "outputs": [],
   "source": [
    "import math"
   ]
  },
  {
   "cell_type": "code",
   "execution_count": 20,
   "id": "1ed80a0c",
   "metadata": {},
   "outputs": [
    {
     "data": {
      "text/plain": [
       "3.141592653589793"
      ]
     },
     "execution_count": 20,
     "metadata": {},
     "output_type": "execute_result"
    }
   ],
   "source": [
    "math.pi"
   ]
  },
  {
   "cell_type": "markdown",
   "id": "f71dfa67",
   "metadata": {},
   "source": [
    "math.# tab gives you all the functions"
   ]
  },
  {
   "cell_type": "markdown",
   "id": "cab4c8be",
   "metadata": {},
   "source": [
    "## Super basic import\n",
    "\n",
    "import module_name at the top of your code\n",
    "\n",
    "\n",
    "module_name.method_name() to call a method from the module"
   ]
  },
  {
   "cell_type": "code",
   "execution_count": 21,
   "id": "d649fc6e",
   "metadata": {},
   "outputs": [
    {
     "data": {
      "text/plain": [
       "2.0"
      ]
     },
     "execution_count": 21,
     "metadata": {},
     "output_type": "execute_result"
    }
   ],
   "source": [
    "math.sqrt(4)"
   ]
  },
  {
   "cell_type": "markdown",
   "id": "83e53afb",
   "metadata": {},
   "source": [
    "- have to import math file first before using it"
   ]
  },
  {
   "cell_type": "markdown",
   "id": "e92ba3da",
   "metadata": {},
   "source": [
    "## importing and aliasing a module (renaming)\n",
    "\n",
    "- import math as m #example\n",
    "- we access functionality off of the alias name"
   ]
  },
  {
   "cell_type": "code",
   "execution_count": null,
   "id": "e876e8ea",
   "metadata": {},
   "outputs": [],
   "source": [
    "# this is an industry accepted/encouraged alias, for example\n",
    "import pandas as pd"
   ]
  },
  {
   "cell_type": "markdown",
   "id": "114a3f12",
   "metadata": {},
   "source": [
    "## import only a specific method/function from a module\n",
    "from math import cos"
   ]
  },
  {
   "cell_type": "code",
   "execution_count": 22,
   "id": "32d38866",
   "metadata": {},
   "outputs": [],
   "source": [
    "from math import cos"
   ]
  },
  {
   "cell_type": "code",
   "execution_count": 23,
   "id": "f4f8712a",
   "metadata": {},
   "outputs": [
    {
     "data": {
      "text/plain": [
       "0.15425144988758405"
      ]
     },
     "execution_count": 23,
     "metadata": {},
     "output_type": "execute_result"
    }
   ],
   "source": [
    "cos(30)"
   ]
  },
  {
   "cell_type": "code",
   "execution_count": 24,
   "id": "51700c27",
   "metadata": {},
   "outputs": [],
   "source": [
    "#what aboout multiple specific method/function imports from module\n",
    "from math import sin, tan"
   ]
  },
  {
   "cell_type": "code",
   "execution_count": 25,
   "id": "26cac5f4",
   "metadata": {},
   "outputs": [
    {
     "data": {
      "text/plain": [
       "-1.995200412208242"
      ]
     },
     "execution_count": 25,
     "metadata": {},
     "output_type": "execute_result"
    }
   ],
   "source": [
    "tan(90)"
   ]
  },
  {
   "cell_type": "code",
   "execution_count": 26,
   "id": "d56c5a63",
   "metadata": {},
   "outputs": [
    {
     "data": {
      "text/plain": [
       "0.0"
      ]
     },
     "execution_count": 26,
     "metadata": {},
     "output_type": "execute_result"
    }
   ],
   "source": [
    "sin(0)"
   ]
  },
  {
   "cell_type": "code",
   "execution_count": 27,
   "id": "49af9fa6",
   "metadata": {},
   "outputs": [],
   "source": [
    "from math import factorial as fact"
   ]
  },
  {
   "cell_type": "code",
   "execution_count": 28,
   "id": "9c5ce8b2",
   "metadata": {},
   "outputs": [
    {
     "data": {
      "text/plain": [
       "120"
      ]
     },
     "execution_count": 28,
     "metadata": {},
     "output_type": "execute_result"
    }
   ],
   "source": [
    "fact(5)"
   ]
  },
  {
   "cell_type": "code",
   "execution_count": 29,
   "id": "584114a2",
   "metadata": {},
   "outputs": [],
   "source": [
    "# you'll also see specific modules from a package/library \n",
    "import matplotlib.pyplot as plt"
   ]
  },
  {
   "cell_type": "code",
   "execution_count": 33,
   "id": "863eb6f0",
   "metadata": {},
   "outputs": [
    {
     "ename": "ModuleNotFoundError",
     "evalue": "No module named 'is_vowel'",
     "output_type": "error",
     "traceback": [
      "\u001b[0;31m---------------------------------------------------------------------------\u001b[0m",
      "\u001b[0;31mModuleNotFoundError\u001b[0m                       Traceback (most recent call last)",
      "\u001b[0;32m/var/folders/6l/s35v3d3n6fqg6xn2wzxj1nlr0000gn/T/ipykernel_7143/1888373922.py\u001b[0m in \u001b[0;36m<module>\u001b[0;34m\u001b[0m\n\u001b[0;32m----> 1\u001b[0;31m \u001b[0;32mimport\u001b[0m \u001b[0mis_vowel\u001b[0m\u001b[0;34m.\u001b[0m\u001b[0mpy\u001b[0m\u001b[0;34m\u001b[0m\u001b[0;34m\u001b[0m\u001b[0m\n\u001b[0m",
      "\u001b[0;31mModuleNotFoundError\u001b[0m: No module named 'is_vowel'"
     ]
    }
   ],
   "source": [
    "import is_vowel.py"
   ]
  },
  {
   "cell_type": "code",
   "execution_count": null,
   "id": "9d3a66a0",
   "metadata": {},
   "outputs": [],
   "source": []
  },
  {
   "cell_type": "markdown",
   "id": "8370e44b",
   "metadata": {},
   "source": [
    "## how to import our oen code modules\n",
    "\n",
    "you'll do this all the time &\n",
    "avoid showing code \n",
    "\n",
    "- step 1 : write a .py script and save it in a folder\n",
    "- step 2 : create another .py or ipynb in the same folder\n",
    "- step 4 : in our new file, 'import module_name', no .py\n",
    "\n"
   ]
  },
  {
   "cell_type": "code",
   "execution_count": 18,
   "id": "0b3b7974",
   "metadata": {},
   "outputs": [
    {
     "name": "stdout",
     "output_type": "stream",
     "text": [
      "Object `add` not found.\n"
     ]
    }
   ],
   "source": [
    "add?"
   ]
  },
  {
   "cell_type": "code",
   "execution_count": null,
   "id": "3b54aaa5",
   "metadata": {},
   "outputs": [],
   "source": []
  }
 ],
 "metadata": {
  "kernelspec": {
   "display_name": "Python 3 (ipykernel)",
   "language": "python",
   "name": "python3"
  },
  "language_info": {
   "codemirror_mode": {
    "name": "ipython",
    "version": 3
   },
   "file_extension": ".py",
   "mimetype": "text/x-python",
   "name": "python",
   "nbconvert_exporter": "python",
   "pygments_lexer": "ipython3",
   "version": "3.9.7"
  }
 },
 "nbformat": 4,
 "nbformat_minor": 5
}
