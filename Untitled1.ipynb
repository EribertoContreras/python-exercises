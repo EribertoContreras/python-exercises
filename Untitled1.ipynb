{
 "cells": [
  {
   "cell_type": "code",
   "execution_count": 3,
   "id": "4a810853",
   "metadata": {},
   "outputs": [
    {
     "ename": "SyntaxError",
     "evalue": "positional argument follows keyword argument (function_exercises.py, line 77)",
     "output_type": "error",
     "traceback": [
      "Traceback \u001b[0;36m(most recent call last)\u001b[0m:\n",
      "  File \u001b[1;32m\"/usr/local/anaconda3/lib/python3.9/site-packages/IPython/core/interactiveshell.py\"\u001b[0m, line \u001b[1;32m3444\u001b[0m, in \u001b[1;35mrun_code\u001b[0m\n    exec(code_obj, self.user_global_ns, self.user_ns)\n",
      "\u001b[0;36m  File \u001b[0;32m\"/var/folders/6l/s35v3d3n6fqg6xn2wzxj1nlr0000gn/T/ipykernel_8312/1301707958.py\"\u001b[0;36m, line \u001b[0;32m1\u001b[0;36m, in \u001b[0;35m<module>\u001b[0;36m\u001b[0m\n\u001b[0;31m    import function_exercises\u001b[0m\n",
      "\u001b[0;36m  File \u001b[0;32m\"/Users/eribertocontreras/codeup-data-science/python-exercises/function_exercises.py\"\u001b[0;36m, line \u001b[0;32m77\u001b[0m\n\u001b[0;31m    sayhello(greeting='Salutations', 'Codeup') # ERROR! it has to be in the right format like originally stated\u001b[0m\n\u001b[0m                                             ^\u001b[0m\n\u001b[0;31mSyntaxError\u001b[0m\u001b[0;31m:\u001b[0m positional argument follows keyword argument\n"
     ]
    }
   ],
   "source": [
    "import function_exercises"
   ]
  },
  {
   "cell_type": "code",
   "execution_count": null,
   "id": "bae86c1f",
   "metadata": {},
   "outputs": [],
   "source": [
    "#1) Import and test 3 of the functions from your functions exercise file. Import each function in a different way:\n",
    "\n",
    "#Run an interactive python session and import the module. Call the is_vowel function using the . syntax.\n",
    "\n",
    "\n",
    "\n",
    "#Create a file named import_exericses.py. Within this file, use from to import the calculate_tip function directly.\n",
    "# Call this function with values you choose and print the result.\n",
    "\n",
    "\n",
    "\n",
    "#Create a jupyter notebook named import_exercises.ipynb. Use from to import the get_letter_grade function and give it an alias.\n",
    "#  Test this function in your notebook.\n",
    "import function_exercises\n",
    "\n",
    "function_exercises.is_two"
   ]
  }
 ],
 "metadata": {
  "kernelspec": {
   "display_name": "Python 3 (ipykernel)",
   "language": "python",
   "name": "python3"
  },
  "language_info": {
   "codemirror_mode": {
    "name": "ipython",
    "version": 3
   },
   "file_extension": ".py",
   "mimetype": "text/x-python",
   "name": "python",
   "nbconvert_exporter": "python",
   "pygments_lexer": "ipython3",
   "version": "3.9.7"
  }
 },
 "nbformat": 4,
 "nbformat_minor": 5
}
