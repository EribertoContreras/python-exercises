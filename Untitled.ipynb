{
 "cells": [
  {
   "cell_type": "code",
   "execution_count": 11,
   "id": "d6beb029",
   "metadata": {},
   "outputs": [],
   "source": [
    "import function_exercises as fe"
   ]
  },
  {
   "cell_type": "code",
   "execution_count": 10,
   "id": "c180f184",
   "metadata": {},
   "outputs": [
    {
     "data": {
      "text/plain": [
       "True"
      ]
     },
     "execution_count": 10,
     "metadata": {},
     "output_type": "execute_result"
    }
   ],
   "source": [
    "fe.is_vowel('a')"
   ]
  },
  {
   "cell_type": "markdown",
   "id": "b88eb69f",
   "metadata": {},
   "source": [
    "### 1) Import and test 3 of the functions from your functions exercise file. Import each function in a different way:\n",
    "- Run an interactive python session and import the module. Call the is_vowel function using the . syntax.\n",
    "- Create a file named import_exericses.py. Within this file, use from to import the calculate_tip function directly.\n",
    "- Call this function with values you choose and print the result.\n",
    "- Create a jupyter notebook named import_exercises.ipynb. Use from to import the get_letter_grade function and give it an alias.\n",
    "-  Test this function in your notebook."
   ]
  },
  {
   "cell_type": "code",
   "execution_count": 22,
   "id": "a6d1dd6a",
   "metadata": {},
   "outputs": [
    {
     "name": "stdout",
     "output_type": "stream",
     "text": [
      "Is a the letter 'a' a vowel: True\n"
     ]
    }
   ],
   "source": [
    "from function_exercises import is_vowel\n",
    "\n",
    "print(\"Is a the letter 'a' a vowel:\", fe.is_vowel('a'))\n"
   ]
  },
  {
   "cell_type": "code",
   "execution_count": null,
   "id": "871bab03",
   "metadata": {},
   "outputs": [],
   "source": []
  }
 ],
 "metadata": {
  "kernelspec": {
   "display_name": "Python 3 (ipykernel)",
   "language": "python",
   "name": "python3"
  },
  "language_info": {
   "codemirror_mode": {
    "name": "ipython",
    "version": 3
   },
   "file_extension": ".py",
   "mimetype": "text/x-python",
   "name": "python",
   "nbconvert_exporter": "python",
   "pygments_lexer": "ipython3",
   "version": "3.9.7"
  }
 },
 "nbformat": 4,
 "nbformat_minor": 5
}
